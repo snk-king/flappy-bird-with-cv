{
 "cells": [
  {
   "cell_type": "code",
   "execution_count": null,
   "metadata": {},
   "outputs": [],
   "source": [
    "import cv2\n",
    "from cvzone.HandTrackingModule import HandDetector\n",
    "\n",
    "detector = HandDetector(detectionCon=0.8, maxHands=1)\n",
    "\n",
    "\n",
    "cap = cv2.VideoCapture(0)\n",
    "\n",
    "cap.set(cv2.CAP_PROP_FRAME_WIDTH, 640)\n",
    "cap.set(cv2.CAP_PROP_FRAME_HEIGHT, 480)\n",
    "keycount = 0\n",
    "\n",
    "# Initialize the label\n",
    "current_label = \"\"\n",
    "\n",
    "while True:\n",
    "    ret, frame = cap.read()\n",
    "    hands, img = detector.findHands(frame)\n",
    "    font = cv2.FONT_HERSHEY_DUPLEX\n",
    "\n",
    "    if hands:\n",
    "        lmList = hands[0]\n",
    "        fingerUp = detector.fingersUp(lmList)\n",
    "\n",
    "        if fingerUp == [0, 0, 0, 0, 0]:\n",
    "            current_label = \"Stop\"\n",
    "            cv2.putText(frame, current_label, (440, 460), cv2.FONT_HERSHEY_COMPLEX, 1, (255, 255, 255), 1,\n",
    "                        cv2.LINE_AA)\n",
    "            keycount += 1\n",
    "        elif sum(fingerUp) == 1:\n",
    "            current_label = \"Up\"\n",
    "            cv2.putText(frame, current_label, (440, 460), cv2.FONT_HERSHEY_COMPLEX, 1, (255, 255, 255), 1,\n",
    "                        cv2.LINE_AA)\n",
    "        elif sum(fingerUp) == 5:\n",
    "            current_label = \"Start\"\n",
    "            cv2.putText(frame, current_label, (440, 460), cv2.FONT_HERSHEY_COMPLEX, 1, (255, 255, 255), 1,\n",
    "                        cv2.LINE_AA)\n",
    "            \n",
    "    print(\"Final label:\", current_label)\n",
    "\n",
    "    cv2.imshow(\"GAME\", frame)\n",
    "\n",
    "    k = cv2.waitKey(1)\n",
    "    if k == ord('q'):\n",
    "        break\n",
    "\n",
    "\n",
    "cap.release()\n",
    "cv2.destroyAllWindows()"
   ]
  }
 ],
 "metadata": {
  "language_info": {
   "name": "python"
  }
 },
 "nbformat": 4,
 "nbformat_minor": 2
}
